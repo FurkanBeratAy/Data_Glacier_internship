{
 "cells": [
  {
   "cell_type": "markdown",
   "metadata": {},
   "source": [
    "2 Gb dataset found on the kaggle website created a YAML file and a summary of the file read the file using four different methods and pefromed basic validation fo the data "
   ]
  },
  {
   "cell_type": "code",
   "execution_count": 32,
   "metadata": {},
   "outputs": [],
   "source": [
    "import warnings\n",
    "warnings.filterwarnings('ignore')"
   ]
  },
  {
   "cell_type": "code",
   "execution_count": 33,
   "metadata": {},
   "outputs": [
    {
     "name": "stdout",
     "output_type": "stream",
     "text": [
      "Pandas read time:\n",
      "{1.5346999168395996}\n"
     ]
    }
   ],
   "source": [
    "import pandas as pd \n",
    "import time\n",
    "\n",
    "sTime = time.time()\n",
    "dfPandas = pd.read_csv(\"cats.csv\")\n",
    "eTime = time.time()\n",
    "\n",
    "print('Pandas read time:')\n",
    "print({eTime - sTime})"
   ]
  },
  {
   "cell_type": "code",
   "execution_count": 34,
   "metadata": {},
   "outputs": [
    {
     "name": "stdout",
     "output_type": "stream",
     "text": [
      "Dask read time: \n",
      "{0.027935028076171875}\n"
     ]
    }
   ],
   "source": [
    "import dask.dataframe as dd\n",
    "import time \n",
    "\n",
    "sTime = time.time()\n",
    "dfDask = dd.read_csv(\"cats.csv\")\n",
    "eTime =time.time()\n",
    "\n",
    "print('Dask read time: ')\n",
    "print({eTime-sTime})\n"
   ]
  },
  {
   "cell_type": "code",
   "execution_count": 35,
   "metadata": {},
   "outputs": [
    {
     "name": "stdout",
     "output_type": "stream",
     "text": [
      "Polar read time: \n",
      "{0.37305593490600586}\n"
     ]
    }
   ],
   "source": [
    "import polars as pl \n",
    "import time \n",
    "\n",
    "sTime =time.time()\n",
    "dffPolars = pl.read_csv(\"cats.csv\")\n",
    "eTime =time.time()\n",
    "\n",
    "print('Polar read time: ')\n",
    "print({eTime-sTime})"
   ]
  },
  {
   "cell_type": "code",
   "execution_count": 36,
   "metadata": {},
   "outputs": [
    {
     "name": "stdout",
     "output_type": "stream",
     "text": [
      "Modin read time: \n",
      "{0.7288470268249512}\n"
     ]
    }
   ],
   "source": [
    "import modin.pandas as mpd\n",
    "import time \n",
    "\n",
    "sTime = time.time()\n",
    "dfModin = mpd.read_csv(\"cats.csv\")\n",
    "eTime = time.time()\n",
    "\n",
    "print('Modin read time: ')\n",
    "print({eTime-sTime})"
   ]
  },
  {
   "cell_type": "markdown",
   "metadata": {},
   "source": [
    "Dask is the fastest "
   ]
  },
  {
   "cell_type": "code",
   "execution_count": 37,
   "metadata": {},
   "outputs": [
    {
     "name": "stdout",
     "output_type": "stream",
     "text": [
      "<class 'pandas.core.frame.DataFrame'>\n",
      "RangeIndex: 67145 entries, 0 to 67144\n",
      "Data columns (total 11 columns):\n",
      " #   Column      Non-Null Count  Dtype \n",
      "---  ------      --------------  ----- \n",
      " 0   Unnamed: 0  67145 non-null  int64 \n",
      " 1   id          67145 non-null  int64 \n",
      " 2   url         67145 non-null  object\n",
      " 3   type        67145 non-null  object\n",
      " 4   age         67145 non-null  object\n",
      " 5   gender      67145 non-null  object\n",
      " 6   size        67145 non-null  object\n",
      " 7   coat        42012 non-null  object\n",
      " 8   breed       67145 non-null  object\n",
      " 9   photos      67145 non-null  object\n",
      " 10  med_photos  67145 non-null  object\n",
      "dtypes: int64(2), object(9)\n",
      "memory usage: 5.6+ MB\n"
     ]
    }
   ],
   "source": [
    "import pandas \n",
    "\n",
    "df = pd.read_csv(\"cats.csv\")\n",
    "\n",
    "df.info()"
   ]
  },
  {
   "cell_type": "code",
   "execution_count": 38,
   "metadata": {},
   "outputs": [
    {
     "data": {
      "text/html": [
       "<div>\n",
       "<style scoped>\n",
       "    .dataframe tbody tr th:only-of-type {\n",
       "        vertical-align: middle;\n",
       "    }\n",
       "\n",
       "    .dataframe tbody tr th {\n",
       "        vertical-align: top;\n",
       "    }\n",
       "\n",
       "    .dataframe thead th {\n",
       "        text-align: right;\n",
       "    }\n",
       "</style>\n",
       "<table border=\"1\" class=\"dataframe\">\n",
       "  <thead>\n",
       "    <tr style=\"text-align: right;\">\n",
       "      <th></th>\n",
       "      <th>Unnamed: 0</th>\n",
       "      <th>id</th>\n",
       "      <th>url</th>\n",
       "      <th>type</th>\n",
       "      <th>age</th>\n",
       "      <th>gender</th>\n",
       "      <th>size</th>\n",
       "      <th>coat</th>\n",
       "      <th>breed</th>\n",
       "      <th>photos</th>\n",
       "      <th>med_photos</th>\n",
       "    </tr>\n",
       "  </thead>\n",
       "  <tbody>\n",
       "    <tr>\n",
       "      <th>0</th>\n",
       "      <td>0</td>\n",
       "      <td>46744842</td>\n",
       "      <td>https://www.petfinder.com/cat/arianna-46744842...</td>\n",
       "      <td>Cat</td>\n",
       "      <td>Adult</td>\n",
       "      <td>Female</td>\n",
       "      <td>Medium</td>\n",
       "      <td>NaN</td>\n",
       "      <td>Abyssinian</td>\n",
       "      <td>[{'small': 'https://dl5zpyw5k3jeb.cloudfront.n...</td>\n",
       "      <td>['https://dl5zpyw5k3jeb.cloudfront.net/photos/...</td>\n",
       "    </tr>\n",
       "    <tr>\n",
       "      <th>1</th>\n",
       "      <td>1</td>\n",
       "      <td>46717321</td>\n",
       "      <td>https://www.petfinder.com/cat/ozzy-46717321/oh...</td>\n",
       "      <td>Cat</td>\n",
       "      <td>Adult</td>\n",
       "      <td>Male</td>\n",
       "      <td>Extra Large</td>\n",
       "      <td>NaN</td>\n",
       "      <td>Abyssinian</td>\n",
       "      <td>[{'small': 'https://dl5zpyw5k3jeb.cloudfront.n...</td>\n",
       "      <td>['https://dl5zpyw5k3jeb.cloudfront.net/photos/...</td>\n",
       "    </tr>\n",
       "    <tr>\n",
       "      <th>2</th>\n",
       "      <td>2</td>\n",
       "      <td>46626338</td>\n",
       "      <td>https://www.petfinder.com/cat/zena-46626338/ca...</td>\n",
       "      <td>Cat</td>\n",
       "      <td>Senior</td>\n",
       "      <td>Female</td>\n",
       "      <td>Medium</td>\n",
       "      <td>NaN</td>\n",
       "      <td>Abyssinian</td>\n",
       "      <td>[{'small': 'https://dl5zpyw5k3jeb.cloudfront.n...</td>\n",
       "      <td>['https://dl5zpyw5k3jeb.cloudfront.net/photos/...</td>\n",
       "    </tr>\n",
       "    <tr>\n",
       "      <th>3</th>\n",
       "      <td>3</td>\n",
       "      <td>46620170</td>\n",
       "      <td>https://www.petfinder.com/cat/mika-46620170/ca...</td>\n",
       "      <td>Cat</td>\n",
       "      <td>Baby</td>\n",
       "      <td>Female</td>\n",
       "      <td>Small</td>\n",
       "      <td>Short</td>\n",
       "      <td>Abyssinian</td>\n",
       "      <td>[{'small': 'https://dl5zpyw5k3jeb.cloudfront.n...</td>\n",
       "      <td>['https://dl5zpyw5k3jeb.cloudfront.net/photos/...</td>\n",
       "    </tr>\n",
       "    <tr>\n",
       "      <th>4</th>\n",
       "      <td>4</td>\n",
       "      <td>46582751</td>\n",
       "      <td>https://www.petfinder.com/cat/ruby-46582751/fl...</td>\n",
       "      <td>Cat</td>\n",
       "      <td>Young</td>\n",
       "      <td>Female</td>\n",
       "      <td>Medium</td>\n",
       "      <td>NaN</td>\n",
       "      <td>Abyssinian</td>\n",
       "      <td>[{'small': 'https://dl5zpyw5k3jeb.cloudfront.n...</td>\n",
       "      <td>['https://dl5zpyw5k3jeb.cloudfront.net/photos/...</td>\n",
       "    </tr>\n",
       "  </tbody>\n",
       "</table>\n",
       "</div>"
      ],
      "text/plain": [
       "   Unnamed: 0        id                                                url  \\\n",
       "0           0  46744842  https://www.petfinder.com/cat/arianna-46744842...   \n",
       "1           1  46717321  https://www.petfinder.com/cat/ozzy-46717321/oh...   \n",
       "2           2  46626338  https://www.petfinder.com/cat/zena-46626338/ca...   \n",
       "3           3  46620170  https://www.petfinder.com/cat/mika-46620170/ca...   \n",
       "4           4  46582751  https://www.petfinder.com/cat/ruby-46582751/fl...   \n",
       "\n",
       "  type     age  gender         size   coat       breed  \\\n",
       "0  Cat   Adult  Female       Medium    NaN  Abyssinian   \n",
       "1  Cat   Adult    Male  Extra Large    NaN  Abyssinian   \n",
       "2  Cat  Senior  Female       Medium    NaN  Abyssinian   \n",
       "3  Cat    Baby  Female        Small  Short  Abyssinian   \n",
       "4  Cat   Young  Female       Medium    NaN  Abyssinian   \n",
       "\n",
       "                                              photos  \\\n",
       "0  [{'small': 'https://dl5zpyw5k3jeb.cloudfront.n...   \n",
       "1  [{'small': 'https://dl5zpyw5k3jeb.cloudfront.n...   \n",
       "2  [{'small': 'https://dl5zpyw5k3jeb.cloudfront.n...   \n",
       "3  [{'small': 'https://dl5zpyw5k3jeb.cloudfront.n...   \n",
       "4  [{'small': 'https://dl5zpyw5k3jeb.cloudfront.n...   \n",
       "\n",
       "                                          med_photos  \n",
       "0  ['https://dl5zpyw5k3jeb.cloudfront.net/photos/...  \n",
       "1  ['https://dl5zpyw5k3jeb.cloudfront.net/photos/...  \n",
       "2  ['https://dl5zpyw5k3jeb.cloudfront.net/photos/...  \n",
       "3  ['https://dl5zpyw5k3jeb.cloudfront.net/photos/...  \n",
       "4  ['https://dl5zpyw5k3jeb.cloudfront.net/photos/...  "
      ]
     },
     "execution_count": 38,
     "metadata": {},
     "output_type": "execute_result"
    }
   ],
   "source": [
    "df.head()"
   ]
  },
  {
   "cell_type": "code",
   "execution_count": 39,
   "metadata": {},
   "outputs": [
    {
     "data": {
      "text/plain": [
       "['Unnamed: 0',\n",
       " 'id',\n",
       " 'url',\n",
       " 'type',\n",
       " 'age',\n",
       " 'gender',\n",
       " 'size',\n",
       " 'coat',\n",
       " 'breed',\n",
       " 'photos',\n",
       " 'med_photos']"
      ]
     },
     "execution_count": 39,
     "metadata": {},
     "output_type": "execute_result"
    }
   ],
   "source": [
    "df.columns.tolist()"
   ]
  },
  {
   "cell_type": "code",
   "execution_count": 40,
   "metadata": {},
   "outputs": [
    {
     "data": {
      "text/plain": [
       "Unnamed: 0        0\n",
       "id                0\n",
       "url               0\n",
       "type              0\n",
       "age               0\n",
       "gender            0\n",
       "size              0\n",
       "coat          25133\n",
       "breed             0\n",
       "photos            0\n",
       "med_photos        0\n",
       "dtype: int64"
      ]
     },
     "execution_count": 40,
     "metadata": {},
     "output_type": "execute_result"
    }
   ],
   "source": [
    "df.isna().sum()"
   ]
  },
  {
   "cell_type": "code",
   "execution_count": 41,
   "metadata": {},
   "outputs": [
    {
     "name": "stdout",
     "output_type": "stream",
     "text": [
      "Column Validation Passed\n"
     ]
    },
    {
     "data": {
      "text/plain": [
       "{'Total number of rows': 67145,\n",
       " 'Total number of columns': 11,\n",
       " 'File size (bytes)': 183580}"
      ]
     },
     "execution_count": 41,
     "metadata": {},
     "output_type": "execute_result"
    }
   ],
   "source": [
    "import os \n",
    "\n",
    "ec = {\n",
    "     \"columns\": [\"Unnamed: 0\", \"id\", \"url\", \"type\", \"age\", \"gender\", \"size\", \"coat\", \"breed\", \"photos\", \"med_photos\"]\n",
    "}\n",
    "if list(df.columns)== ec[\"columns\"]:\n",
    "    print (\"Column Validation Passed\")\n",
    "else:\n",
    "    print(\"Column validation failed\")\n",
    "\n",
    "output_file = \"cats.csv\"\n",
    "df_subset = df.iloc[:2000]\n",
    "df_subset.to_csv(output_file, sep=\"|\", compression=\"gzip\", index=False)\n",
    "\n",
    "summary = {\n",
    "    \"Total number of rows\": len(df),\n",
    "    \"Total number of columns\": len(df.columns),\n",
    "    \"File size (bytes)\": os.path.getsize(output_file)\n",
    "}\n",
    "\n",
    "summary\n"
   ]
  }
 ],
 "metadata": {
  "kernelspec": {
   "display_name": "Python 3",
   "language": "python",
   "name": "python3"
  },
  "language_info": {
   "codemirror_mode": {
    "name": "ipython",
    "version": 3
   },
   "file_extension": ".py",
   "mimetype": "text/x-python",
   "name": "python",
   "nbconvert_exporter": "python",
   "pygments_lexer": "ipython3",
   "version": "3.11.5"
  }
 },
 "nbformat": 4,
 "nbformat_minor": 2
}
